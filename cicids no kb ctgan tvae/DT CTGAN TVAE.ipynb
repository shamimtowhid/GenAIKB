{
 "cells": [
  {
   "cell_type": "code",
   "execution_count": 4,
   "metadata": {},
   "outputs": [],
   "source": [
    "import sys\n",
    "sys.path.append('/home/sharedrive/nafi/traffic/lib/python3.9/site-packages')\n",
    "\n",
    "import pandas as pd\n",
    "from chronos import ChronosPipeline\n",
    "import torch\n",
    "from table_evaluator import TableEvaluator\n",
    "import matplotlib.pyplot as plt\n",
    "from sdv.single_table import GaussianCopulaSynthesizer, CTGANSynthesizer, TVAESynthesizer\n",
    "from sdv.metadata import Metadata\n",
    "import numpy as np\n",
    "from ctgan import CTGAN\n",
    "from ctgan import load_demo\n",
    "from sklearn.preprocessing import StandardScaler, LabelEncoder, MinMaxScaler\n",
    "from sklearn.ensemble import RandomForestClassifier\n",
    "from sklearn.metrics import confusion_matrix, classification_report\n",
    "import xgboost as xgb\n",
    "from table_evaluator import TableEvaluator\n",
    "import pickle\n",
    "import os\n",
    "import time\n",
    "from scipy.spatial.distance import jensenshannon\n",
    "from scipy.stats import wasserstein_distance\n",
    "from tqdm import tqdm\n",
    "from sklearn.tree import DecisionTreeClassifier"
   ]
  },
  {
   "cell_type": "code",
   "execution_count": 5,
   "metadata": {},
   "outputs": [
    {
     "data": {
      "text/plain": [
       "((1979513, 23), (848363, 23))"
      ]
     },
     "execution_count": 5,
     "metadata": {},
     "output_type": "execute_result"
    }
   ],
   "source": [
    "cic_train = pd.read_csv(\"/home/sharedrive/nafi/trafficp3/cicidis/datasets/clean_cicids_neg_train.csv\")\n",
    "cic_test = pd.read_csv(\"/home/sharedrive/nafi/trafficp3/cicidis/datasets/clean_cicids_neg_test.csv\")\n",
    "cic_train.shape, cic_test.shape"
   ]
  },
  {
   "cell_type": "code",
   "execution_count": 6,
   "metadata": {},
   "outputs": [],
   "source": [
    "label_encoder = LabelEncoder()\n",
    "scaler = StandardScaler()"
   ]
  },
  {
   "cell_type": "code",
   "execution_count": 7,
   "metadata": {},
   "outputs": [],
   "source": [
    "def generate_data_for_classes_ctgan(df, classes, num_samples, num_epochs=500):\n",
    "    synthetic_data = pd.DataFrame()\n",
    "    metadata = Metadata.detect_from_dataframe(data=df)\n",
    "    for cls in classes:\n",
    "        selected_df = df[df[\"Label\"] == cls]\n",
    "        synthesizer = CTGANSynthesizer(metadata, epochs=num_epochs, verbose=True)\n",
    "        synthesizer.fit(selected_df)\n",
    "        samples = synthesizer.sample(num_samples)\n",
    "        \n",
    "        synthetic_data = pd.concat([synthetic_data, samples])\n",
    "    return synthetic_data"
   ]
  },
  {
   "cell_type": "code",
   "execution_count": 10,
   "metadata": {},
   "outputs": [],
   "source": [
    "small_classes = ['Web_Attack__XSS', 'Web_Attack__Brute_Force',\n",
    "       'Web_Attack__Sql_Injection', 'Infiltration', 'Heartbleed', 'Bot']\n",
    "save_path = \"/home/sharedrive/nafi/trafficp3/cicidis\"\n",
    "\n",
    "def save_label_encoder(le, file_name):\n",
    "    with open(f'{save_path}/models/{file_name}_label_encoder.pkl', 'wb') as le_file:\n",
    "        pickle.dump(le, le_file)\n",
    "\n",
    "def save_scaler(scaler, file_name):\n",
    "    with open(f'{save_path}/models/{file_name}_scaler.pkl', 'wb') as scaler_file:\n",
    "        pickle.dump(scaler, scaler_file)\n",
    "    \n",
    "def ctgan_train(train_df, epochi, file_name, reduced_test_df, rounds=0, model_name=None):\n",
    "    model_name = f\"{model_name}\" if model_name else \"\"\n",
    "    for num_sample in [1000]:\n",
    "        print(f\"{file_name} epoch={epochi} samples={num_sample} round={rounds}\")\n",
    "\n",
    "        synthetic_file_path = f\"{save_path}/datasets/{file_name}sample{num_sample}epoch{epochi}rounds{rounds}.csv\"\n",
    "        \n",
    "        if os.path.exists(synthetic_file_path):\n",
    "            print(f\"Synthetic data already exists: {synthetic_file_path}\")\n",
    "            synthetic_data_df = pd.read_csv(synthetic_file_path)\n",
    "        else:\n",
    "            start_time = time.time()\n",
    "            print(\"Generating synthetic data...\") \n",
    "            synthetic_data = generate_data_for_classes_ctgan(train_df, small_classes, num_sample, epochi)\n",
    "\n",
    "            # save and load synthetic data\n",
    "            synthetic_data.to_csv(f'{save_path}/datasets/{file_name}sample{num_sample}epoch{epochi}rounds{rounds}.csv', index=False)\n",
    "            synthetic_data_df = pd.read_csv(synthetic_file_path)\n",
    "            \n",
    "            elapsed_time = time.time() - start_time\n",
    "            print(f\"Execution time for generating data: {elapsed_time:.2f} seconds\")\n",
    "\n",
    "        # combine synthetic and real data\n",
    "        combined_train_synth_df = pd.concat([train_df, synthetic_data_df], axis=0, ignore_index=True)\n",
    "\n",
    "        # divide to x_train and y_train from reduced_train_df\n",
    "        x_train = combined_train_synth_df.drop(columns=[\"Label\"])\n",
    "        y_train = combined_train_synth_df[\"Label\"]\n",
    "        x_test = reduced_test_df.drop(columns=[\"Label\"])\n",
    "        y_test = reduced_test_df[\"Label\"]\n",
    "        \n",
    "        y_train = label_encoder.fit_transform(y_train) # Encode string labels into numeric format\n",
    "        y_test = label_encoder.transform(y_test)\n",
    "        x_train = scaler.fit_transform(x_train) # Standardize the features\n",
    "        x_test = scaler.transform(x_test)\n",
    "        save_label_encoder(label_encoder, file_name)\n",
    "        save_scaler(scaler, file_name)\n",
    "\n",
    "        model = DecisionTreeClassifier(random_state=1002)\n",
    "        model.fit(x_train, y_train) #For sklearn no one hot encoding\n",
    "\n",
    "        pred_rf = model.predict(x_test)\n",
    "\n",
    "\n",
    "        pickle.dump(model, open(f'{save_path}/models/{file_name}sample{num_sample}epoch{epochi}rounds{rounds}{model_name}.pkl', 'wb'))\n",
    "\n",
    "        print(f\"Classification Report for Sample Size {num_sample}:\")\n",
    "        print(classification_report(y_test, pred_rf, digits=4, target_names=label_encoder.classes_))"
   ]
  },
  {
   "cell_type": "code",
   "execution_count": 11,
   "metadata": {},
   "outputs": [
    {
     "name": "stdout",
     "output_type": "stream",
     "text": [
      "synthetic_from_cicids_ctgan epoch=1500 samples=1000 round=11\n",
      "Synthetic data already exists: /home/sharedrive/nafi/trafficp3/cicidis/datasets/synthetic_from_cicids_ctgansample1000epoch1500rounds11.csv\n",
      "Classification Report for Sample Size 1000:\n",
      "                           precision    recall  f1-score   support\n",
      "\n",
      "                   BENIGN     0.9953    0.9900    0.9927    681396\n",
      "                      Bot     0.7661    0.5077    0.6107       587\n",
      "                     DDoS     0.9984    0.9981    0.9983     38408\n",
      "            DoS_GoldenEye     0.9777    0.9780    0.9778      3088\n",
      "                 DoS_Hulk     0.9161    0.9750    0.9447     69037\n",
      "         DoS_Slowhttptest     0.9469    0.9509    0.9489      1650\n",
      "            DoS_slowloris     0.9948    0.9914    0.9931      1739\n",
      "              FTP-Patator     0.9970    0.9874    0.9922      2380\n",
      "               Heartbleed     1.0000    0.6667    0.8000         3\n",
      "             Infiltration     0.5714    0.7273    0.6400        11\n",
      "                 PortScan     0.9932    0.9995    0.9963     47641\n",
      "              SSH-Patator     0.9881    0.5178    0.6795      1769\n",
      "  Web_Attack__Brute_Force     0.6871    0.6704    0.6786       452\n",
      "Web_Attack__Sql_Injection     0.1429    0.3333    0.2000         6\n",
      "          Web_Attack__XSS     0.3713    0.3163    0.3416       196\n",
      "\n",
      "                 accuracy                         0.9879    848363\n",
      "                macro avg     0.8231    0.7740    0.7863    848363\n",
      "             weighted avg     0.9883    0.9879    0.9878    848363\n",
      "\n"
     ]
    }
   ],
   "source": [
    "ctgan_train(train_df=cic_train, epochi=1500, file_name='synthetic_from_cicids_ctgan', reduced_test_df=cic_test, rounds=11, model_name='DT')\n"
   ]
  },
  {
   "cell_type": "code",
   "execution_count": 12,
   "metadata": {},
   "outputs": [
    {
     "name": "stdout",
     "output_type": "stream",
     "text": [
      "synthetic_from_cicids_ctgan epoch=1500 samples=1000 round=22\n",
      "Synthetic data already exists: /home/sharedrive/nafi/trafficp3/cicidis/datasets/synthetic_from_cicids_ctgansample1000epoch1500rounds22.csv\n",
      "Classification Report for Sample Size 1000:\n",
      "                           precision    recall  f1-score   support\n",
      "\n",
      "                   BENIGN     0.9953    0.9900    0.9926    681396\n",
      "                      Bot     0.7564    0.5026    0.6039       587\n",
      "                     DDoS     0.9985    0.9982    0.9983     38408\n",
      "            DoS_GoldenEye     0.9758    0.9773    0.9765      3088\n",
      "                 DoS_Hulk     0.9163    0.9750    0.9447     69037\n",
      "         DoS_Slowhttptest     0.9458    0.9509    0.9483      1650\n",
      "            DoS_slowloris     0.9960    0.9931    0.9945      1739\n",
      "              FTP-Patator     0.9979    0.9874    0.9926      2380\n",
      "               Heartbleed     1.0000    0.6667    0.8000         3\n",
      "             Infiltration     0.5833    0.6364    0.6087        11\n",
      "                 PortScan     0.9930    0.9995    0.9962     47641\n",
      "              SSH-Patator     0.9807    0.5178    0.6778      1769\n",
      "  Web_Attack__Brute_Force     0.6973    0.6881    0.6927       452\n",
      "Web_Attack__Sql_Injection     0.1429    0.3333    0.2000         6\n",
      "          Web_Attack__XSS     0.3697    0.3112    0.3380       196\n",
      "\n",
      "                 accuracy                         0.9879    848363\n",
      "                macro avg     0.8232    0.7685    0.7843    848363\n",
      "             weighted avg     0.9882    0.9879    0.9878    848363\n",
      "\n"
     ]
    }
   ],
   "source": [
    "ctgan_train(train_df=cic_train, epochi=1500, file_name='synthetic_from_cicids_ctgan', reduced_test_df=cic_test, rounds=22, model_name='DT')\n"
   ]
  },
  {
   "cell_type": "code",
   "execution_count": 13,
   "metadata": {},
   "outputs": [
    {
     "name": "stdout",
     "output_type": "stream",
     "text": [
      "synthetic_from_cicids_ctgan epoch=1500 samples=1000 round=33\n",
      "Synthetic data already exists: /home/sharedrive/nafi/trafficp3/cicidis/datasets/synthetic_from_cicids_ctgansample1000epoch1500rounds33.csv\n",
      "Classification Report for Sample Size 1000:\n",
      "                           precision    recall  f1-score   support\n",
      "\n",
      "                   BENIGN     0.9953    0.9900    0.9927    681396\n",
      "                      Bot     0.7413    0.5077    0.6026       587\n",
      "                     DDoS     0.9985    0.9981    0.9983     38408\n",
      "            DoS_GoldenEye     0.9786    0.9777    0.9781      3088\n",
      "                 DoS_Hulk     0.9165    0.9751    0.9449     69037\n",
      "         DoS_Slowhttptest     0.9464    0.9624    0.9543      1650\n",
      "            DoS_slowloris     0.9954    0.9919    0.9937      1739\n",
      "              FTP-Patator     0.9975    0.9874    0.9924      2380\n",
      "               Heartbleed     1.0000    0.6667    0.8000         3\n",
      "             Infiltration     0.6154    0.7273    0.6667        11\n",
      "                 PortScan     0.9933    0.9995    0.9964     47641\n",
      "              SSH-Patator     0.9881    0.5178    0.6795      1769\n",
      "  Web_Attack__Brute_Force     0.6935    0.7058    0.6996       452\n",
      "Web_Attack__Sql_Injection     0.0833    0.1667    0.1111         6\n",
      "          Web_Attack__XSS     0.3816    0.2959    0.3333       196\n",
      "\n",
      "                 accuracy                         0.9880    848363\n",
      "                macro avg     0.8216    0.7647    0.7829    848363\n",
      "             weighted avg     0.9883    0.9880    0.9879    848363\n",
      "\n"
     ]
    }
   ],
   "source": [
    "ctgan_train(train_df=cic_train, epochi=1500, file_name='synthetic_from_cicids_ctgan', reduced_test_df=cic_test, rounds=33, model_name='DT')\n"
   ]
  },
  {
   "cell_type": "code",
   "execution_count": 14,
   "metadata": {},
   "outputs": [],
   "source": [
    "def generate_data_for_classes_tvae(df, classes, num_samples, num_epochs=500):\n",
    "    synthetic_data = pd.DataFrame()\n",
    "    metadata = Metadata.detect_from_dataframe(data=df)\n",
    "    for cls in classes:\n",
    "        selected_df = df[df[\"Label\"] == cls]\n",
    "        synthesizer = TVAESynthesizer(metadata, epochs=num_epochs, verbose=True)\n",
    "        synthesizer.fit(selected_df)\n",
    "        samples = synthesizer.sample(num_samples)\n",
    "        \n",
    "        synthetic_data = pd.concat([synthetic_data, samples])\n",
    "    return synthetic_data\n",
    "\n",
    "\n",
    "small_classes = ['Web_Attack__XSS', 'Web_Attack__Brute_Force',\n",
    "       'Web_Attack__Sql_Injection', 'Infiltration', 'Heartbleed', 'Bot']\n",
    "save_path = \"/home/sharedrive/nafi/trafficp3/cicidis\"\n",
    "\n",
    "def save_label_encoder(le, file_name):\n",
    "    with open(f'{save_path}/models/{file_name}_label_encoder.pkl', 'wb') as le_file:\n",
    "        pickle.dump(le, le_file)\n",
    "\n",
    "def save_scaler(scaler, file_name):\n",
    "    with open(f'{save_path}/models/{file_name}_scaler.pkl', 'wb') as scaler_file:\n",
    "        pickle.dump(scaler, scaler_file)\n",
    "    \n",
    "def tvae_train(train_df, epochi, file_name, reduced_test_df, rounds=0, model_name=None):\n",
    "    model_name = f\"{model_name}\" if model_name else \"\"\n",
    "\n",
    "    for num_sample in [1000]:\n",
    "        print(f\"{file_name} epoch={epochi} samples={num_sample} round={rounds}\")\n",
    "\n",
    "        synthetic_file_path = f\"{save_path}/datasets/{file_name}sample{num_sample}epoch{epochi}rounds{rounds}.csv\"\n",
    "        \n",
    "        if os.path.exists(synthetic_file_path):\n",
    "            print(f\"Synthetic data already exists: {synthetic_file_path}\")\n",
    "            synthetic_data_df = pd.read_csv(synthetic_file_path)\n",
    "        else:\n",
    "            start_time = time.time()\n",
    "            print(\"Generating synthetic data...\") \n",
    "            synthetic_data = generate_data_for_classes_tvae(train_df, small_classes, num_sample, epochi)\n",
    "\n",
    "            # save and load synthetic data\n",
    "            synthetic_data.to_csv(f'{save_path}/datasets/{file_name}sample{num_sample}epoch{epochi}rounds{rounds}.csv', index=False)\n",
    "            synthetic_data_df = pd.read_csv(synthetic_file_path)\n",
    "            \n",
    "            elapsed_time = time.time() - start_time\n",
    "            print(f\"Execution time for generating data: {elapsed_time:.2f} seconds\")\n",
    "\n",
    "        # combine synthetic and real data\n",
    "        combined_train_synth_df = pd.concat([train_df, synthetic_data_df], axis=0, ignore_index=True)\n",
    "\n",
    "        # divide to x_train and y_train from reduced_train_df\n",
    "        x_train = combined_train_synth_df.drop(columns=[\"Label\"])\n",
    "        y_train = combined_train_synth_df[\"Label\"]\n",
    "        x_test = reduced_test_df.drop(columns=[\"Label\"])\n",
    "        y_test = reduced_test_df[\"Label\"]\n",
    "        \n",
    "        y_train = label_encoder.fit_transform(y_train) # Encode string labels into numeric format\n",
    "        y_test = label_encoder.transform(y_test)\n",
    "        x_train = scaler.fit_transform(x_train) # Standardize the features\n",
    "        x_test = scaler.transform(x_test)\n",
    "        save_label_encoder(label_encoder, file_name)\n",
    "        save_scaler(scaler, file_name)\n",
    "\n",
    "        model = DecisionTreeClassifier(random_state=1002)\n",
    "        model.fit(x_train, y_train) #For sklearn no one hot encoding\n",
    "\n",
    "        pred_rf = model.predict(x_test)\n",
    "\n",
    "\n",
    "        pickle.dump(model, open(f'{save_path}/models/{file_name}sample{num_sample}epoch{epochi}rounds{rounds}{model_name}.pkl', 'wb'))\n",
    "\n",
    "        print(f\"Classification Report for Sample Size {num_sample}:\")\n",
    "        print(classification_report(y_test, pred_rf, digits=4, target_names=label_encoder.classes_))"
   ]
  },
  {
   "cell_type": "code",
   "execution_count": 15,
   "metadata": {},
   "outputs": [
    {
     "name": "stdout",
     "output_type": "stream",
     "text": [
      "synthetic_from_cicids_tvae epoch=1500 samples=1000 round=11\n",
      "Synthetic data already exists: /home/sharedrive/nafi/trafficp3/cicidis/datasets/synthetic_from_cicids_tvaesample1000epoch1500rounds11.csv\n",
      "Classification Report for Sample Size 1000:\n",
      "                           precision    recall  f1-score   support\n",
      "\n",
      "                   BENIGN     0.9953    0.9900    0.9927    681396\n",
      "                      Bot     0.7500    0.5111    0.6079       587\n",
      "                     DDoS     0.9986    0.9981    0.9983     38408\n",
      "            DoS_GoldenEye     0.9758    0.9780    0.9769      3088\n",
      "                 DoS_Hulk     0.9163    0.9749    0.9447     69037\n",
      "         DoS_Slowhttptest     0.9476    0.9648    0.9562      1650\n",
      "            DoS_slowloris     0.9925    0.9902    0.9914      1739\n",
      "              FTP-Patator     0.9979    0.9870    0.9924      2380\n",
      "               Heartbleed     1.0000    0.6667    0.8000         3\n",
      "             Infiltration     0.4444    0.7273    0.5517        11\n",
      "                 PortScan     0.9931    0.9994    0.9962     47641\n",
      "              SSH-Patator     0.9903    0.5172    0.6795      1769\n",
      "  Web_Attack__Brute_Force     0.7079    0.6704    0.6886       452\n",
      "Web_Attack__Sql_Injection     0.1818    0.3333    0.2353         6\n",
      "          Web_Attack__XSS     0.3825    0.3571    0.3694       196\n",
      "\n",
      "                 accuracy                         0.9879    848363\n",
      "                macro avg     0.8183    0.7777    0.7854    848363\n",
      "             weighted avg     0.9883    0.9879    0.9879    848363\n",
      "\n"
     ]
    }
   ],
   "source": [
    "tvae_train(train_df=cic_train, epochi=1500, file_name='synthetic_from_cicids_tvae', reduced_test_df=cic_test, rounds=11, model_name=\"DT\")\n"
   ]
  },
  {
   "cell_type": "code",
   "execution_count": 16,
   "metadata": {},
   "outputs": [
    {
     "name": "stdout",
     "output_type": "stream",
     "text": [
      "synthetic_from_cicids_tvae epoch=1500 samples=1000 round=22\n",
      "Synthetic data already exists: /home/sharedrive/nafi/trafficp3/cicidis/datasets/synthetic_from_cicids_tvaesample1000epoch1500rounds22.csv\n",
      "Classification Report for Sample Size 1000:\n",
      "                           precision    recall  f1-score   support\n",
      "\n",
      "                   BENIGN     0.9953    0.9900    0.9927    681396\n",
      "                      Bot     0.7402    0.5145    0.6070       587\n",
      "                     DDoS     0.9985    0.9981    0.9983     38408\n",
      "            DoS_GoldenEye     0.9770    0.9786    0.9778      3088\n",
      "                 DoS_Hulk     0.9162    0.9750    0.9446     69037\n",
      "         DoS_Slowhttptest     0.9458    0.9630    0.9544      1650\n",
      "            DoS_slowloris     0.9925    0.9908    0.9917      1739\n",
      "              FTP-Patator     0.9979    0.9870    0.9924      2380\n",
      "               Heartbleed     1.0000    0.6667    0.8000         3\n",
      "             Infiltration     0.5000    0.7273    0.5926        11\n",
      "                 PortScan     0.9931    0.9994    0.9963     47641\n",
      "              SSH-Patator     0.9892    0.5172    0.6793      1769\n",
      "  Web_Attack__Brute_Force     0.7193    0.6858    0.7022       452\n",
      "Web_Attack__Sql_Injection     0.2222    0.3333    0.2667         6\n",
      "          Web_Attack__XSS     0.4195    0.3724    0.3946       196\n",
      "\n",
      "                 accuracy                         0.9879    848363\n",
      "                macro avg     0.8271    0.7799    0.7927    848363\n",
      "             weighted avg     0.9883    0.9879    0.9879    848363\n",
      "\n"
     ]
    }
   ],
   "source": [
    "tvae_train(train_df=cic_train, epochi=1500, file_name='synthetic_from_cicids_tvae', reduced_test_df=cic_test, rounds=22, model_name=\"DT\")\n"
   ]
  },
  {
   "cell_type": "code",
   "execution_count": 17,
   "metadata": {},
   "outputs": [
    {
     "name": "stdout",
     "output_type": "stream",
     "text": [
      "synthetic_from_cicids_tvae epoch=1500 samples=1000 round=33\n",
      "Synthetic data already exists: /home/sharedrive/nafi/trafficp3/cicidis/datasets/synthetic_from_cicids_tvaesample1000epoch1500rounds33.csv\n",
      "Classification Report for Sample Size 1000:\n",
      "                           precision    recall  f1-score   support\n",
      "\n",
      "                   BENIGN     0.9953    0.9900    0.9927    681396\n",
      "                      Bot     0.7519    0.5111    0.6085       587\n",
      "                     DDoS     0.9984    0.9982    0.9983     38408\n",
      "            DoS_GoldenEye     0.9764    0.9777    0.9770      3088\n",
      "                 DoS_Hulk     0.9164    0.9749    0.9447     69037\n",
      "         DoS_Slowhttptest     0.9471    0.9648    0.9559      1650\n",
      "            DoS_slowloris     0.9880    0.9902    0.9891      1739\n",
      "              FTP-Patator     0.9975    0.9870    0.9922      2380\n",
      "               Heartbleed     1.0000    0.6667    0.8000         3\n",
      "             Infiltration     0.5294    0.8182    0.6429        11\n",
      "                 PortScan     0.9932    0.9994    0.9963     47641\n",
      "              SSH-Patator     0.9924    0.5172    0.6800      1769\n",
      "  Web_Attack__Brute_Force     0.7026    0.6637    0.6826       452\n",
      "Web_Attack__Sql_Injection     0.2000    0.3333    0.2500         6\n",
      "          Web_Attack__XSS     0.3898    0.3520    0.3700       196\n",
      "\n",
      "                 accuracy                         0.9879    848363\n",
      "                macro avg     0.8252    0.7830    0.7920    848363\n",
      "             weighted avg     0.9883    0.9879    0.9879    848363\n",
      "\n"
     ]
    }
   ],
   "source": [
    "tvae_train(train_df=cic_train, epochi=1500, file_name='synthetic_from_cicids_tvae', reduced_test_df=cic_test, rounds=33, model_name=\"DT\")\n"
   ]
  },
  {
   "cell_type": "code",
   "execution_count": null,
   "metadata": {},
   "outputs": [],
   "source": []
  }
 ],
 "metadata": {
  "kernelspec": {
   "display_name": "Python 3 (ipykernel)",
   "language": "python",
   "name": "python3"
  },
  "language_info": {
   "codemirror_mode": {
    "name": "ipython",
    "version": 3
   },
   "file_extension": ".py",
   "mimetype": "text/x-python",
   "name": "python",
   "nbconvert_exporter": "python",
   "pygments_lexer": "ipython3",
   "version": "3.8.10"
  }
 },
 "nbformat": 4,
 "nbformat_minor": 2
}
