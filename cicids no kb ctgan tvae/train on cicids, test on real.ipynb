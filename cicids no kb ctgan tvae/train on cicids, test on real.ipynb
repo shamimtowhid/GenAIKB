{
 "cells": [
  {
   "cell_type": "code",
   "execution_count": 2,
   "id": "b16b1787",
   "metadata": {},
   "outputs": [],
   "source": [
    "import sys\n",
    "sys.path.append('/home/sharedrive/nafi/traffic/lib/python3.9/site-packages')\n",
    "\n",
    "import pandas as pd\n",
    "from chronos import ChronosPipeline\n",
    "import torch\n",
    "from table_evaluator import TableEvaluator\n",
    "import matplotlib.pyplot as plt\n",
    "from sdv.single_table import GaussianCopulaSynthesizer\n",
    "from sdv.metadata import Metadata\n",
    "import numpy as np\n",
    "from ctgan import CTGAN\n",
    "from ctgan import load_demo\n",
    "from sklearn.preprocessing import StandardScaler, LabelEncoder, MinMaxScaler\n",
    "from sklearn.ensemble import RandomForestClassifier\n",
    "from sklearn.metrics import confusion_matrix, classification_report\n",
    "import xgboost as xgb\n",
    "from table_evaluator import TableEvaluator\n",
    "import pickle\n",
    "import os"
   ]
  },
  {
   "cell_type": "code",
   "execution_count": 3,
   "id": "305a91c8",
   "metadata": {},
   "outputs": [
    {
     "data": {
      "text/plain": [
       "((1979513, 25), (848363, 25))"
      ]
     },
     "execution_count": 3,
     "metadata": {},
     "output_type": "execute_result"
    }
   ],
   "source": [
    "cic_train_df = pd.read_csv(\"./datasets/CICIDS_clean_train.csv\")\n",
    "cic_test_df = pd.read_csv(\"./datasets/CICIDS_clean_test.csv\")\n",
    "cic_train_df.shape, cic_test_df.shape"
   ]
  },
  {
   "cell_type": "code",
   "execution_count": 3,
   "id": "3821f122",
   "metadata": {},
   "outputs": [],
   "source": [
    "label_encoder = LabelEncoder()\n",
    "scaler = StandardScaler()"
   ]
  },
  {
   "cell_type": "code",
   "execution_count": 4,
   "id": "6497e130",
   "metadata": {},
   "outputs": [],
   "source": [
    "classes = ['Mal_Mod2', 'Mal_Del', 'Mal_Mod', 'Mal_Estab', 'Normal']\n",
    "\n",
    "def train(train_df, epochi, file_name, reduced_test_df=cic_test_df):\n",
    "    for num_sample in [1000]:\n",
    "        print(f\"{file_name} epoch={epochi} samples={num_sample}\")\n",
    "\n",
    "        # divide to x_train and y_train from reduced_train_df\n",
    "        x_train = train_df.drop(columns=[\"Label\"])\n",
    "        y_train = train_df[\"Label\"]\n",
    "        x_test = reduced_test_df.drop(columns=[\"Label\"])\n",
    "        y_test = reduced_test_df[\"Label\"]\n",
    "        \n",
    "        y_train = label_encoder.fit_transform(y_train) # Encode string labels into numeric format\n",
    "        y_test = label_encoder.transform(y_test)\n",
    "        x_train = scaler.fit_transform(x_train) # Standardize the features\n",
    "        x_test = scaler.transform(x_test)\n",
    "\n",
    "        RF_model = RandomForestClassifier(random_state=1002, verbose=2)\n",
    "        RF_model.fit(x_train, y_train) #For sklearn no one hot encoding\n",
    "\n",
    "        pred_rf = RF_model.predict(x_test)\n",
    "\n",
    "\n",
    "        pickle.dump(RF_model, open(f'./models/{file_name}sample{num_sample}epoch{epochi}.pkl', 'wb'))\n",
    "\n",
    "        print(f\"Classification Report for Sample Size {num_sample}:\")\n",
    "        print(classification_report(y_test, pred_rf, digits=4, target_names=label_encoder.classes_))"
   ]
  },
  {
   "cell_type": "code",
   "execution_count": 6,
   "id": "bb60521d",
   "metadata": {
    "scrolled": false
   },
   "outputs": [
    {
     "name": "stdout",
     "output_type": "stream",
     "text": [
      "real_from_cicids epoch=1500 samples=1000\n",
      "building tree 1 of 100\n",
      "building tree 2 of 100\n",
      "building tree 3 of 100\n",
      "building tree 4 of 100\n",
      "building tree 5 of 100\n",
      "building tree 6 of 100\n",
      "building tree 7 of 100\n",
      "building tree 8 of 100\n",
      "building tree 9 of 100\n",
      "building tree 10 of 100\n",
      "building tree 11 of 100\n",
      "building tree 12 of 100\n",
      "building tree 13 of 100\n",
      "building tree 14 of 100\n",
      "building tree 15 of 100\n",
      "building tree 16 of 100\n",
      "building tree 17 of 100\n",
      "building tree 18 of 100\n",
      "building tree 19 of 100\n",
      "building tree 20 of 100\n",
      "building tree 21 of 100\n",
      "building tree 22 of 100\n",
      "building tree 23 of 100\n",
      "building tree 24 of 100\n",
      "building tree 25 of 100\n",
      "building tree 26 of 100\n",
      "building tree 27 of 100\n",
      "building tree 28 of 100\n",
      "building tree 29 of 100\n",
      "building tree 30 of 100\n",
      "building tree 31 of 100\n",
      "building tree 32 of 100\n",
      "building tree 33 of 100\n",
      "building tree 34 of 100\n",
      "building tree 35 of 100\n",
      "building tree 36 of 100\n",
      "building tree 37 of 100\n",
      "building tree 38 of 100\n",
      "building tree 39 of 100\n",
      "building tree 40 of 100\n"
     ]
    },
    {
     "name": "stderr",
     "output_type": "stream",
     "text": [
      "[Parallel(n_jobs=1)]: Done  40 tasks      | elapsed:  3.4min\n"
     ]
    },
    {
     "name": "stdout",
     "output_type": "stream",
     "text": [
      "building tree 41 of 100\n",
      "building tree 42 of 100\n",
      "building tree 43 of 100\n",
      "building tree 44 of 100\n",
      "building tree 45 of 100\n",
      "building tree 46 of 100\n",
      "building tree 47 of 100\n",
      "building tree 48 of 100\n",
      "building tree 49 of 100\n",
      "building tree 50 of 100\n",
      "building tree 51 of 100\n",
      "building tree 52 of 100\n",
      "building tree 53 of 100\n",
      "building tree 54 of 100\n",
      "building tree 55 of 100\n",
      "building tree 56 of 100\n",
      "building tree 57 of 100\n",
      "building tree 58 of 100\n",
      "building tree 59 of 100\n",
      "building tree 60 of 100\n",
      "building tree 61 of 100\n",
      "building tree 62 of 100\n",
      "building tree 63 of 100\n",
      "building tree 64 of 100\n",
      "building tree 65 of 100\n",
      "building tree 66 of 100\n",
      "building tree 67 of 100\n",
      "building tree 68 of 100\n",
      "building tree 69 of 100\n",
      "building tree 70 of 100\n",
      "building tree 71 of 100\n",
      "building tree 72 of 100\n",
      "building tree 73 of 100\n",
      "building tree 74 of 100\n",
      "building tree 75 of 100\n",
      "building tree 76 of 100\n",
      "building tree 77 of 100\n",
      "building tree 78 of 100\n",
      "building tree 79 of 100\n",
      "building tree 80 of 100\n",
      "building tree 81 of 100\n",
      "building tree 82 of 100\n",
      "building tree 83 of 100\n",
      "building tree 84 of 100\n",
      "building tree 85 of 100\n",
      "building tree 86 of 100\n",
      "building tree 87 of 100\n",
      "building tree 88 of 100\n",
      "building tree 89 of 100\n",
      "building tree 90 of 100\n",
      "building tree 91 of 100\n",
      "building tree 92 of 100\n",
      "building tree 93 of 100\n",
      "building tree 94 of 100\n",
      "building tree 95 of 100\n",
      "building tree 96 of 100\n",
      "building tree 97 of 100\n",
      "building tree 98 of 100\n",
      "building tree 99 of 100\n",
      "building tree 100 of 100\n"
     ]
    },
    {
     "name": "stderr",
     "output_type": "stream",
     "text": [
      "[Parallel(n_jobs=1)]: Done  40 tasks      | elapsed:    5.1s\n"
     ]
    },
    {
     "name": "stdout",
     "output_type": "stream",
     "text": [
      "Classification Report for Sample Size 1000:\n",
      "                           precision    recall  f1-score   support\n",
      "\n",
      "                   BENIGN       1.00      1.00      1.00    681396\n",
      "                      Bot       0.62      0.76      0.68       587\n",
      "                     DDoS       1.00      1.00      1.00     38408\n",
      "            DoS_GoldenEye       1.00      0.99      0.99      3088\n",
      "                 DoS_Hulk       1.00      1.00      1.00     69037\n",
      "         DoS_Slowhttptest       0.95      0.99      0.97      1650\n",
      "            DoS_slowloris       1.00      1.00      1.00      1739\n",
      "              FTP-Patator       1.00      1.00      1.00      2380\n",
      "               Heartbleed       1.00      0.67      0.80         3\n",
      "             Infiltration       1.00      0.45      0.62        11\n",
      "                 PortScan       0.99      1.00      1.00     47641\n",
      "              SSH-Patator       1.00      0.99      0.99      1769\n",
      "  Web_Attack__Brute_Force       0.71      0.77      0.74       452\n",
      "Web_Attack__Sql_Injection       0.50      0.33      0.40         6\n",
      "          Web_Attack__XSS       0.45      0.33      0.38       196\n",
      "\n",
      "                 accuracy                           1.00    848363\n",
      "                macro avg       0.88      0.82      0.84    848363\n",
      "             weighted avg       1.00      1.00      1.00    848363\n",
      "\n"
     ]
    }
   ],
   "source": [
    "train(train_df=cic_train_df, epochi=1500, file_name='real_from_cicids')"
   ]
  },
  {
   "cell_type": "code",
   "execution_count": null,
   "id": "fd2c2d0f",
   "metadata": {},
   "outputs": [],
   "source": []
  }
 ],
 "metadata": {
  "kernelspec": {
   "display_name": "Python 3 (ipykernel)",
   "language": "python",
   "name": "python3"
  },
  "language_info": {
   "codemirror_mode": {
    "name": "ipython",
    "version": 3
   },
   "file_extension": ".py",
   "mimetype": "text/x-python",
   "name": "python",
   "nbconvert_exporter": "python",
   "pygments_lexer": "ipython3",
   "version": "3.8.10"
  }
 },
 "nbformat": 4,
 "nbformat_minor": 5
}
