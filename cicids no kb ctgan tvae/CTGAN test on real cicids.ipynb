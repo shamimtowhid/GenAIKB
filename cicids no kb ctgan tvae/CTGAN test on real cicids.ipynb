{
 "cells": [
  {
   "cell_type": "code",
   "execution_count": 1,
   "id": "624b8e12",
   "metadata": {},
   "outputs": [],
   "source": [
    "import sys\n",
    "sys.path.append('/home/sharedrive/nafi/traffic/lib/python3.9/site-packages')\n",
    "\n",
    "import pandas as pd\n",
    "from chronos import ChronosPipeline\n",
    "import torch\n",
    "from table_evaluator import TableEvaluator\n",
    "import matplotlib.pyplot as plt\n",
    "from sdv.single_table import GaussianCopulaSynthesizer\n",
    "from sdv.metadata import Metadata\n",
    "import numpy as np\n",
    "from ctgan import CTGAN\n",
    "from ctgan import load_demo\n",
    "from sklearn.preprocessing import StandardScaler, LabelEncoder, MinMaxScaler\n",
    "from sklearn.ensemble import RandomForestClassifier\n",
    "from sklearn.metrics import confusion_matrix, classification_report\n",
    "import xgboost as xgb\n",
    "from table_evaluator import TableEvaluator\n",
    "import pickle\n",
    "import os"
   ]
  },
  {
   "cell_type": "code",
   "execution_count": 4,
   "id": "cbc942af",
   "metadata": {},
   "outputs": [
    {
     "data": {
      "text/plain": [
       "Label\n",
       "BENIGN                       681396\n",
       "DoS_Hulk                      69037\n",
       "PortScan                      47641\n",
       "DDoS                          38408\n",
       "DoS_GoldenEye                  3088\n",
       "FTP-Patator                    2380\n",
       "SSH-Patator                    1769\n",
       "DoS_slowloris                  1739\n",
       "DoS_Slowhttptest               1650\n",
       "Bot                             587\n",
       "Web_Attack__Brute_Force         452\n",
       "Web_Attack__XSS                 196\n",
       "Infiltration                     11\n",
       "Web_Attack__Sql_Injection         6\n",
       "Heartbleed                        3\n",
       "Name: count, dtype: int64"
      ]
     },
     "execution_count": 4,
     "metadata": {},
     "output_type": "execute_result"
    }
   ],
   "source": [
    "cic_test_df = pd.read_csv(\"./datasets/CICIDS_clean_test.csv\")\n",
    "cic_test_df[\"Label\"].value_counts()"
   ]
  },
  {
   "cell_type": "code",
   "execution_count": null,
   "id": "fe72d94f",
   "metadata": {},
   "outputs": [],
   "source": [
    "label_encoder = LabelEncoder()\n",
    "scaler = StandardScaler()"
   ]
  },
  {
   "cell_type": "code",
   "execution_count": 10,
   "id": "4c4dcac8",
   "metadata": {},
   "outputs": [],
   "source": [
    "def inference(test_df, RF_model, num_sample=1000):\n",
    "    x_test = scaler.transform(x_test)\n",
    "    y_test = label_encoder.transform(y_test)\n",
    "    \n",
    "    x_test = test_df.drop(columns=[\"Label\"])\n",
    "    y_test = test_df[\"Label\"]\n",
    "\n",
    "    pred_rf = RF_model.predict(x_test)\n",
    "\n",
    "    print(f\"Classification Report for Sample Size {num_sample}:\")\n",
    "    print(classification_report(y_test, pred_rf, digits=4, target_names=label_encoder.classes_))"
   ]
  },
  {
   "cell_type": "code",
   "execution_count": 11,
   "id": "1df39b18",
   "metadata": {},
   "outputs": [
    {
     "name": "stderr",
     "output_type": "stream",
     "text": [
      "[Parallel(n_jobs=1)]: Done  40 tasks      | elapsed:    5.1s\n"
     ]
    },
    {
     "name": "stdout",
     "output_type": "stream",
     "text": [
      "Classification Report for Sample Size 1000:\n",
      "                           precision    recall  f1-score   support\n",
      "\n",
      "                   BENIGN     0.9998    0.9990    0.9994    681396\n",
      "                      Bot     0.7302    0.9404    0.8220       587\n",
      "                     DDoS     0.9998    0.9997    0.9997     38408\n",
      "            DoS_GoldenEye     0.9981    0.9958    0.9969      3088\n",
      "                 DoS_Hulk     0.9984    0.9992    0.9988     69037\n",
      "         DoS_Slowhttptest     0.9779    0.9945    0.9862      1650\n",
      "            DoS_slowloris     0.9983    0.9988    0.9986      1739\n",
      "              FTP-Patator     0.9996    0.9992    0.9994      2380\n",
      "               Heartbleed     1.0000    1.0000    1.0000         3\n",
      "             Infiltration     1.0000    0.8182    0.9000        11\n",
      "                 PortScan     0.9936    0.9998    0.9967     47641\n",
      "              SSH-Patator     0.9977    0.9983    0.9980      1769\n",
      "  Web_Attack__Brute_Force     0.8729    0.9115    0.8918       452\n",
      "Web_Attack__Sql_Injection     1.0000    0.5000    0.6667         6\n",
      "          Web_Attack__XSS     0.8212    0.7500    0.7840       196\n",
      "\n",
      "                 accuracy                         0.9989    848363\n",
      "                macro avg     0.9592    0.9270    0.9359    848363\n",
      "             weighted avg     0.9990    0.9989    0.9989    848363\n",
      "\n"
     ]
    }
   ],
   "source": [
    "with open(\"/home/sharedrive/nafi/trafficp3/models/synthetic_from_itu_ctgansample1000epoch1500rounds1.pkl\", \"rb\") as file:\n",
    "    ctgan_model_1 = pickle.load(file)\n",
    "inference(cic_test_df, ctgan_model_1)"
   ]
  },
  {
   "cell_type": "code",
   "execution_count": null,
   "id": "52795069",
   "metadata": {},
   "outputs": [],
   "source": [
    "with open(\"/home/sharedrive/nafi/trafficp3/models/synthetic_from_itu_ctgansample1000epoch1500rounds2.pkl\", \"rb\") as file:\n",
    "    ctgan_model_2 = pickle.load(file)\n",
    "inference(cic_test_df, ctgan_model_2)"
   ]
  },
  {
   "cell_type": "code",
   "execution_count": null,
   "id": "4a358619",
   "metadata": {},
   "outputs": [],
   "source": [
    "with open(\"/home/sharedrive/nafi/trafficp3/models/synthetic_from_itu_ctgansample1000epoch1500rounds3.pkl\", \"rb\") as file:\n",
    "    ctgan_model_3 = pickle.load(file)\n",
    "inference(cic_test_df, ctgan_model_3)"
   ]
  },
  {
   "cell_type": "code",
   "execution_count": 2,
   "id": "6a46ab3f",
   "metadata": {},
   "outputs": [
    {
     "data": {
      "text/plain": [
       "Label\n",
       "BENIGN                       1589924\n",
       "DoS_Hulk                      161087\n",
       "PortScan                      111163\n",
       "DDoS                           89617\n",
       "DoS_GoldenEye                   7205\n",
       "FTP-Patator                     5555\n",
       "SSH-Patator                     4128\n",
       "DoS_slowloris                   4057\n",
       "DoS_Slowhttptest                3849\n",
       "Bot                             1369\n",
       "Web_Attack__Brute_Force         1055\n",
       "Web_Attack__XSS                  456\n",
       "Infiltration                      25\n",
       "Web_Attack__Sql_Injection         15\n",
       "Heartbleed                         8\n",
       "Name: count, dtype: int64"
      ]
     },
     "execution_count": 2,
     "metadata": {},
     "output_type": "execute_result"
    }
   ],
   "source": [
    "cic_train_df = pd.read_csv(\"./datasets/CICIDS_clean_train.csv\")\n",
    "cic_train_df[\"Label\"].value_counts()"
   ]
  },
  {
   "cell_type": "code",
   "execution_count": null,
   "id": "8dabde86",
   "metadata": {},
   "outputs": [],
   "source": []
  }
 ],
 "metadata": {
  "kernelspec": {
   "display_name": "Python 3 (ipykernel)",
   "language": "python",
   "name": "python3"
  },
  "language_info": {
   "codemirror_mode": {
    "name": "ipython",
    "version": 3
   },
   "file_extension": ".py",
   "mimetype": "text/x-python",
   "name": "python",
   "nbconvert_exporter": "python",
   "pygments_lexer": "ipython3",
   "version": "3.8.10"
  }
 },
 "nbformat": 4,
 "nbformat_minor": 5
}
