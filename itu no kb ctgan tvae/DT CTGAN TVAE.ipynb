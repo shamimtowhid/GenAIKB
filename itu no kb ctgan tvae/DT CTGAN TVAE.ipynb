{
 "cells": [
  {
   "cell_type": "code",
   "execution_count": 4,
   "metadata": {},
   "outputs": [],
   "source": [
    "import sys\n",
    "sys.path.append('/home/sharedrive/nafi/traffic/lib/python3.9/site-packages')\n",
    "\n",
    "import pandas as pd\n",
    "from chronos import ChronosPipeline\n",
    "import torch\n",
    "from table_evaluator import TableEvaluator\n",
    "import matplotlib.pyplot as plt\n",
    "from sdv.single_table import GaussianCopulaSynthesizer\n",
    "from sdv.metadata import Metadata\n",
    "import numpy as np\n",
    "from ctgan import CTGAN\n",
    "from ctgan import load_demo\n",
    "from sklearn.preprocessing import StandardScaler, LabelEncoder, MinMaxScaler\n",
    "from sklearn.ensemble import RandomForestClassifier\n",
    "from sklearn.metrics import confusion_matrix, classification_report\n",
    "import xgboost as xgb\n",
    "from table_evaluator import TableEvaluator\n",
    "import pickle\n",
    "import os"
   ]
  },
  {
   "cell_type": "code",
   "execution_count": 5,
   "metadata": {},
   "outputs": [
    {
     "data": {
      "text/plain": [
       "(511540, 23)"
      ]
     },
     "execution_count": 5,
     "metadata": {},
     "output_type": "execute_result"
    }
   ],
   "source": [
    "itu_test_df = pd.read_csv(\"/home/sharedrive/nafi/trafficp3/datasets/feature_selected_neg_itu_test.csv\")\n",
    "itu_test_df.shape"
   ]
  },
  {
   "cell_type": "code",
   "execution_count": 6,
   "metadata": {},
   "outputs": [],
   "source": [
    "def load_label_encoder(file_name):\n",
    "    save_path = \"/home/sharedrive/nafi/trafficp3/cicidis\"\n",
    "    with open(f'{save_path}/models/{file_name}_label_encoder.pkl', 'rb') as le_file:\n",
    "        return pickle.load(le_file)\n",
    "\n",
    "def load_scaler(file_name):\n",
    "    save_path = \"/home/sharedrive/nafi/trafficp3/cicidis\"\n",
    "    with open(f'{save_path}/models/{file_name}_scaler.pkl', 'rb') as scaler_file:\n",
    "        return pickle.load(scaler_file)\n",
    "\n",
    "def load_model(file_name, rounds, num_samples=1000, epochi=1500):\n",
    "    save_path = \"/home/sharedrive/nafi/trafficp3/cicidis\"\n",
    "    with open(f'{save_path}/models/{file_name}sample{num_samples}epoch{epochi}rounds{rounds}DT.pkl', 'rb') as model:\n",
    "        return pickle.load(model) \n",
    "\n",
    "\n",
    "def inference(test_df, load_file_name, rounds, num_sample=1000):\n",
    "    x_test = test_df.drop(columns=[\"Label\"])\n",
    "    y_test = test_df[\"Label\"]\n",
    "\n",
    "    scaler = load_scaler(load_file_name)\n",
    "    le = load_label_encoder(load_file_name)\n",
    "    model = load_model(load_file_name, rounds)\n",
    "    \n",
    "    x_test = scaler.transform(x_test)\n",
    "    y_test = le.transform(y_test)\n",
    "    print(\"scaler and label encoder loaded & applied!!\")\n",
    "\n",
    "\n",
    "    pred_rf = model.predict(x_test)\n",
    "\n",
    "    print(f\"Classification Report for Sample Size {num_sample}:\")\n",
    "    print(classification_report(y_test, pred_rf, digits=4, target_names=le.classes_))"
   ]
  },
  {
   "cell_type": "code",
   "execution_count": 7,
   "metadata": {},
   "outputs": [
    {
     "name": "stdout",
     "output_type": "stream",
     "text": [
      "scaler and label encoder loaded & applied!!\n",
      "Classification Report for Sample Size 1000:\n",
      "                           precision    recall  f1-score   support\n",
      "\n",
      "                   BENIGN     0.9837    0.5597    0.7135    410865\n",
      "                      Bot     0.0067    0.9774    0.0133       354\n",
      "                     DDoS     0.9606    0.3631    0.5270     23160\n",
      "            DoS_GoldenEye     0.9639    0.4310    0.5956      1861\n",
      "                 DoS_Hulk     0.6787    0.3095    0.4251     41626\n",
      "         DoS_Slowhttptest     0.5733    0.5272    0.5493       994\n",
      "            DoS_slowloris     0.8151    0.5677    0.6693      1048\n",
      "              FTP-Patator     0.9099    0.4784    0.6271      1436\n",
      "               Heartbleed     1.0000    1.0000    1.0000         2\n",
      "             Infiltration     0.0007    0.6667    0.0014         6\n",
      "                 PortScan     0.0006    0.0010    0.0008     28728\n",
      "              SSH-Patator     0.9885    0.0806    0.1490      1067\n",
      "  Web_Attack__Brute_Force     0.0097    0.8640    0.0192       272\n",
      "Web_Attack__Sql_Injection     0.0000    0.0000    0.0000         4\n",
      "          Web_Attack__XSS     0.1860    0.0684    0.1000       117\n",
      "\n",
      "                 accuracy                         0.4977    511540\n",
      "                macro avg     0.5385    0.4596    0.3594    511540\n",
      "             weighted avg     0.8998    0.4977    0.6383    511540\n",
      "\n"
     ]
    }
   ],
   "source": [
    "inference(itu_test_df, 'synthetic_from_cicids_ctgan', 11)\n"
   ]
  },
  {
   "cell_type": "code",
   "execution_count": 8,
   "metadata": {},
   "outputs": [
    {
     "name": "stdout",
     "output_type": "stream",
     "text": [
      "scaler and label encoder loaded & applied!!\n",
      "Classification Report for Sample Size 1000:\n",
      "                           precision    recall  f1-score   support\n",
      "\n",
      "                   BENIGN     0.9624    0.6594    0.7826    410865\n",
      "                      Bot     0.0032    0.6808    0.0064       354\n",
      "                     DDoS     0.0198    0.0015    0.0028     23160\n",
      "            DoS_GoldenEye     0.6947    0.4476    0.5444      1861\n",
      "                 DoS_Hulk     0.7113    0.5204    0.6011     41626\n",
      "         DoS_Slowhttptest     0.4344    0.7525    0.5508       994\n",
      "            DoS_slowloris     0.8441    0.5840    0.6904      1048\n",
      "              FTP-Patator     0.9120    0.4694    0.6198      1436\n",
      "               Heartbleed     1.0000    1.0000    1.0000         2\n",
      "             Infiltration     0.0001    0.6667    0.0002         6\n",
      "                 PortScan     0.0017    0.0020    0.0018     28728\n",
      "              SSH-Patator     0.9849    0.4892    0.6537      1067\n",
      "  Web_Attack__Brute_Force     0.1510    0.8934    0.2584       272\n",
      "Web_Attack__Sql_Injection     0.0001    0.5000    0.0001         4\n",
      "          Web_Attack__XSS     0.1500    0.0256    0.0438       117\n",
      "\n",
      "                 accuracy                         0.5798    511540\n",
      "                macro avg     0.4580    0.5128    0.3838    511540\n",
      "             weighted avg     0.8417    0.5798    0.6854    511540\n",
      "\n"
     ]
    }
   ],
   "source": [
    "inference(itu_test_df, 'synthetic_from_cicids_ctgan', 22)"
   ]
  },
  {
   "cell_type": "code",
   "execution_count": 9,
   "metadata": {},
   "outputs": [
    {
     "name": "stdout",
     "output_type": "stream",
     "text": [
      "scaler and label encoder loaded & applied!!\n",
      "Classification Report for Sample Size 1000:\n",
      "                           precision    recall  f1-score   support\n",
      "\n",
      "                   BENIGN     0.9958    0.9907    0.9932    410865\n",
      "                      Bot     0.9231    0.6102    0.7347       354\n",
      "                     DDoS     0.9995    0.9995    0.9995     23160\n",
      "            DoS_GoldenEye     0.9908    0.9887    0.9898      1861\n",
      "                 DoS_Hulk     0.9191    0.9769    0.9471     41626\n",
      "         DoS_Slowhttptest     0.9820    0.9899    0.9860       994\n",
      "            DoS_slowloris     0.9981    0.9990    0.9986      1048\n",
      "              FTP-Patator     0.9965    0.9868    0.9916      1436\n",
      "               Heartbleed     1.0000    1.0000    1.0000         2\n",
      "             Infiltration     0.7143    0.8333    0.7692         6\n",
      "                 PortScan     0.9940    0.9998    0.9969     28728\n",
      "              SSH-Patator     0.9981    0.4967    0.6633      1067\n",
      "  Web_Attack__Brute_Force     0.9157    0.8382    0.8752       272\n",
      "Web_Attack__Sql_Injection     0.5000    0.5000    0.5000         4\n",
      "          Web_Attack__XSS     0.8440    0.7863    0.8142       117\n",
      "\n",
      "                 accuracy                         0.9891    511540\n",
      "                macro avg     0.9181    0.8664    0.8840    511540\n",
      "             weighted avg     0.9894    0.9891    0.9890    511540\n",
      "\n"
     ]
    }
   ],
   "source": [
    "inference(itu_test_df, 'synthetic_from_cicids_ctgan', 33)"
   ]
  },
  {
   "cell_type": "code",
   "execution_count": 10,
   "metadata": {},
   "outputs": [
    {
     "name": "stdout",
     "output_type": "stream",
     "text": [
      "scaler and label encoder loaded & applied!!\n",
      "Classification Report for Sample Size 1000:\n",
      "                           precision    recall  f1-score   support\n",
      "\n",
      "                   BENIGN     0.9834    0.7879    0.8748    410865\n",
      "                      Bot     0.0030    0.5706    0.0060       354\n",
      "                     DDoS     0.5533    0.9958    0.7114     23160\n",
      "            DoS_GoldenEye     0.7934    0.9511    0.8651      1861\n",
      "                 DoS_Hulk     0.4031    0.4228    0.4127     41626\n",
      "         DoS_Slowhttptest     0.8269    0.8219    0.8244       994\n",
      "            DoS_slowloris     0.9866    0.9103    0.9469      1048\n",
      "              FTP-Patator     0.9101    0.4791    0.6277      1436\n",
      "               Heartbleed     1.0000    1.0000    1.0000         2\n",
      "             Infiltration     0.0003    0.6667    0.0005         6\n",
      "                 PortScan     0.7012    0.0040    0.0080     28728\n",
      "              SSH-Patator     0.2871    0.4911    0.3624      1067\n",
      "  Web_Attack__Brute_Force     0.0038    0.1176    0.0073       272\n",
      "Web_Attack__Sql_Injection     0.0000    0.0000    0.0000         4\n",
      "          Web_Attack__XSS     0.0119    0.0427    0.0186       117\n",
      "\n",
      "                 accuracy                         0.7223    511540\n",
      "                macro avg     0.4976    0.5508    0.4444    511540\n",
      "             weighted avg     0.8967    0.7223    0.7781    511540\n",
      "\n"
     ]
    }
   ],
   "source": [
    "inference(itu_test_df, 'synthetic_from_cicids_tvae', 11)"
   ]
  },
  {
   "cell_type": "code",
   "execution_count": 11,
   "metadata": {},
   "outputs": [
    {
     "name": "stdout",
     "output_type": "stream",
     "text": [
      "scaler and label encoder loaded & applied!!\n",
      "Classification Report for Sample Size 1000:\n",
      "                           precision    recall  f1-score   support\n",
      "\n",
      "                   BENIGN     0.9727    0.7633    0.8554    410865\n",
      "                      Bot     0.0031    0.9859    0.0062       354\n",
      "                     DDoS     0.5514    0.9930    0.7091     23160\n",
      "            DoS_GoldenEye     0.8333    0.9592    0.8918      1861\n",
      "                 DoS_Hulk     0.8368    0.3577    0.5012     41626\n",
      "         DoS_Slowhttptest     0.4229    0.7173    0.5321       994\n",
      "            DoS_slowloris     0.8151    0.8034    0.8092      1048\n",
      "              FTP-Patator     0.9400    0.9923    0.9654      1436\n",
      "               Heartbleed     1.0000    1.0000    1.0000         2\n",
      "             Infiltration     0.0072    0.6667    0.0143         6\n",
      "                 PortScan     0.8904    0.0023    0.0045     28728\n",
      "              SSH-Patator     0.2277    0.4930    0.3115      1067\n",
      "  Web_Attack__Brute_Force     0.1172    0.1103    0.1136       272\n",
      "Web_Attack__Sql_Injection     0.0000    0.0000    0.0000         4\n",
      "          Web_Attack__XSS     0.3323    0.9316    0.4899       117\n",
      "\n",
      "                 accuracy                         0.6985    511540\n",
      "                macro avg     0.5300    0.6517    0.4803    511540\n",
      "             weighted avg     0.9331    0.6985    0.7696    511540\n",
      "\n"
     ]
    }
   ],
   "source": [
    "inference(itu_test_df, 'synthetic_from_cicids_tvae', 22)"
   ]
  },
  {
   "cell_type": "code",
   "execution_count": 12,
   "metadata": {},
   "outputs": [
    {
     "name": "stdout",
     "output_type": "stream",
     "text": [
      "scaler and label encoder loaded & applied!!\n",
      "Classification Report for Sample Size 1000:\n",
      "                           precision    recall  f1-score   support\n",
      "\n",
      "                   BENIGN     0.9958    0.9907    0.9932    410865\n",
      "                      Bot     0.9149    0.6073    0.7301       354\n",
      "                     DDoS     0.9994    0.9995    0.9995     23160\n",
      "            DoS_GoldenEye     0.9903    0.9882    0.9892      1861\n",
      "                 DoS_Hulk     0.9190    0.9769    0.9471     41626\n",
      "         DoS_Slowhttptest     0.9830    0.9899    0.9865       994\n",
      "            DoS_slowloris     0.9952    0.9981    0.9967      1048\n",
      "              FTP-Patator     0.9965    0.9868    0.9916      1436\n",
      "               Heartbleed     1.0000    1.0000    1.0000         2\n",
      "             Infiltration     0.8333    0.8333    0.8333         6\n",
      "                 PortScan     0.9940    0.9998    0.9969     28728\n",
      "              SSH-Patator     0.9981    0.4977    0.6642      1067\n",
      "  Web_Attack__Brute_Force     0.9163    0.8051    0.8571       272\n",
      "Web_Attack__Sql_Injection     0.6667    0.5000    0.5714         4\n",
      "          Web_Attack__XSS     0.7851    0.8120    0.7983       117\n",
      "\n",
      "                 accuracy                         0.9890    511540\n",
      "                macro avg     0.9325    0.8657    0.8903    511540\n",
      "             weighted avg     0.9894    0.9890    0.9889    511540\n",
      "\n"
     ]
    }
   ],
   "source": [
    "inference(itu_test_df, 'synthetic_from_cicids_tvae', 33)"
   ]
  }
 ],
 "metadata": {
  "kernelspec": {
   "display_name": "Python 3 (ipykernel)",
   "language": "python",
   "name": "python3"
  }
 },
 "nbformat": 4,
 "nbformat_minor": 2
}
