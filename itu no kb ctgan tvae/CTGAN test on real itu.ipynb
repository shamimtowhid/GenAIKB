{
 "cells": [
  {
   "cell_type": "code",
   "execution_count": 13,
   "metadata": {},
   "outputs": [],
   "source": [
    "import sys\n",
    "sys.path.append('/home/sharedrive/nafi/traffic/lib/python3.9/site-packages')\n",
    "\n",
    "import pandas as pd\n",
    "from chronos import ChronosPipeline\n",
    "import torch\n",
    "from table_evaluator import TableEvaluator\n",
    "import matplotlib.pyplot as plt\n",
    "from sdv.single_table import GaussianCopulaSynthesizer\n",
    "from sdv.metadata import Metadata\n",
    "import numpy as np\n",
    "from ctgan import CTGAN\n",
    "from ctgan import load_demo\n",
    "from sklearn.preprocessing import StandardScaler, LabelEncoder, MinMaxScaler\n",
    "from sklearn.ensemble import RandomForestClassifier\n",
    "from sklearn.metrics import confusion_matrix, classification_report\n",
    "import xgboost as xgb\n",
    "from table_evaluator import TableEvaluator\n",
    "import pickle\n",
    "import os"
   ]
  },
  {
   "cell_type": "code",
   "execution_count": 14,
   "metadata": {},
   "outputs": [
    {
     "data": {
      "text/plain": [
       "(511540, 25)"
      ]
     },
     "execution_count": 14,
     "metadata": {},
     "output_type": "execute_result"
    }
   ],
   "source": [
    "itu_test_df = pd.read_csv(\"/home/sharedrive/nafi/trafficp3/datasets/feature_selected_itu_test.csv\")\n",
    "itu_test_df.shape"
   ]
  },
  {
   "cell_type": "code",
   "execution_count": 15,
   "metadata": {},
   "outputs": [
    {
     "data": {
      "text/plain": [
       "(511540, 23)"
      ]
     },
     "execution_count": 15,
     "metadata": {},
     "output_type": "execute_result"
    }
   ],
   "source": [
    "itu_test_df.drop(columns=[\"Init_Win_bytes_forward\", \"Flow_IAT_Min\"], inplace=True)\n",
    "itu_test_df.shape\n"
   ]
  },
  {
   "cell_type": "code",
   "execution_count": 16,
   "metadata": {},
   "outputs": [],
   "source": [
    "def load_label_encoder(file_name):\n",
    "    save_path = \"/home/sharedrive/nafi/trafficp3/cicidis\"\n",
    "    with open(f'{save_path}/models/{file_name}_label_encoder.pkl', 'rb') as le_file:\n",
    "        return pickle.load(le_file)\n",
    "\n",
    "def load_scaler(file_name):\n",
    "    save_path = \"/home/sharedrive/nafi/trafficp3/cicidis\"\n",
    "    with open(f'{save_path}/models/{file_name}_scaler.pkl', 'rb') as scaler_file:\n",
    "        return pickle.load(scaler_file)\n",
    "\n",
    "def load_model(file_name, rounds, num_samples=1000, epochi=1500):\n",
    "    save_path = \"/home/sharedrive/nafi/trafficp3/cicidis\"\n",
    "    with open(f'{save_path}/models/{file_name}sample{num_samples}epoch{epochi}rounds{rounds}.pkl', 'rb') as model:\n",
    "        return pickle.load(model) \n",
    "\n",
    "\n",
    "def inference(test_df, load_file_name, rounds, num_sample=1000):\n",
    "    x_test = test_df.drop(columns=[\"Label\"])\n",
    "    y_test = test_df[\"Label\"]\n",
    "\n",
    "    scaler = load_scaler(load_file_name)\n",
    "    le = load_label_encoder(load_file_name)\n",
    "    RF_model = load_model(load_file_name, rounds)\n",
    "    \n",
    "    x_test = scaler.transform(x_test)\n",
    "    y_test = le.transform(y_test)\n",
    "    print(\"scaler and label encoder loaded & applied!!\")\n",
    "\n",
    "\n",
    "    pred_rf = RF_model.predict(x_test)\n",
    "\n",
    "    print(f\"Classification Report for Sample Size {num_sample}:\")\n",
    "    print(classification_report(y_test, pred_rf, digits=4, target_names=le.classes_))"
   ]
  },
  {
   "cell_type": "code",
   "execution_count": 17,
   "metadata": {},
   "outputs": [
    {
     "name": "stdout",
     "output_type": "stream",
     "text": [
      "scaler and label encoder loaded & applied!!\n"
     ]
    },
    {
     "name": "stderr",
     "output_type": "stream",
     "text": [
      "[Parallel(n_jobs=1)]: Done  40 tasks      | elapsed:    3.1s\n"
     ]
    },
    {
     "name": "stdout",
     "output_type": "stream",
     "text": [
      "Classification Report for Sample Size 1000:\n",
      "                           precision    recall  f1-score   support\n",
      "\n",
      "                   BENIGN     0.9279    0.8775    0.9020    410865\n",
      "                      Bot     0.0100    0.9802    0.0198       354\n",
      "                     DDoS     0.9992    0.8443    0.9152     23160\n",
      "            DoS_GoldenEye     0.9892    0.9801    0.9846      1861\n",
      "                 DoS_Hulk     0.8372    0.9096    0.8719     41626\n",
      "         DoS_Slowhttptest     1.0000    0.4356    0.6069       994\n",
      "            DoS_slowloris     0.9950    0.9456    0.9697      1048\n",
      "              FTP-Patator     0.9937    0.9861    0.9899      1436\n",
      "               Heartbleed     1.0000    1.0000    1.0000         2\n",
      "             Infiltration     0.0020    0.5000    0.0040         6\n",
      "                 PortScan     1.0000    0.0032    0.0065     28728\n",
      "              SSH-Patator     1.0000    0.4911    0.6587      1067\n",
      "  Web_Attack__Brute_Force     0.0162    0.9816    0.0319       272\n",
      "Web_Attack__Sql_Injection     0.0067    0.2500    0.0131         4\n",
      "          Web_Attack__XSS     1.0000    0.0427    0.0820       117\n",
      "\n",
      "                 accuracy                         0.8286    511540\n",
      "                macro avg     0.7185    0.6819    0.5371    511540\n",
      "             weighted avg     0.9275    0.8286    0.8482    511540\n",
      "\n"
     ]
    }
   ],
   "source": [
    "inference(itu_test_df, 'synthetic_from_cicids_ctgan', 1)"
   ]
  },
  {
   "cell_type": "code",
   "execution_count": 18,
   "metadata": {},
   "outputs": [
    {
     "name": "stdout",
     "output_type": "stream",
     "text": [
      "scaler and label encoder loaded & applied!!\n"
     ]
    },
    {
     "name": "stderr",
     "output_type": "stream",
     "text": [
      "[Parallel(n_jobs=1)]: Done  40 tasks      | elapsed:    3.1s\n"
     ]
    },
    {
     "name": "stdout",
     "output_type": "stream",
     "text": [
      "Classification Report for Sample Size 1000:\n",
      "                           precision    recall  f1-score   support\n",
      "\n",
      "                   BENIGN     0.9158    0.8924    0.9040    410865\n",
      "                      Bot     0.0148    0.7175    0.0290       354\n",
      "                     DDoS     0.8783    0.9390    0.9076     23160\n",
      "            DoS_GoldenEye     0.9838    0.8157    0.8919      1861\n",
      "                 DoS_Hulk     0.8675    0.8395    0.8533     41626\n",
      "         DoS_Slowhttptest     1.0000    0.3652    0.5350       994\n",
      "            DoS_slowloris     0.9950    0.9475    0.9707      1048\n",
      "              FTP-Patator     0.9930    0.9861    0.9895      1436\n",
      "               Heartbleed     1.0000    1.0000    1.0000         2\n",
      "             Infiltration     0.0017    0.6667    0.0035         6\n",
      "                 PortScan     0.9906    0.0073    0.0146     28728\n",
      "              SSH-Patator     1.0000    0.4902    0.6579      1067\n",
      "  Web_Attack__Brute_Force     0.0291    0.4890    0.0549       272\n",
      "Web_Attack__Sql_Injection     0.0001    0.5000    0.0002         4\n",
      "          Web_Attack__XSS     0.4112    0.6923    0.5159       117\n",
      "\n",
      "                 accuracy                         0.8384    511540\n",
      "                macro avg     0.6721    0.6899    0.5552    511540\n",
      "             weighted avg     0.9141    0.8384    0.8480    511540\n",
      "\n"
     ]
    }
   ],
   "source": [
    "inference(itu_test_df, 'synthetic_from_cicids_ctgan', 2)"
   ]
  },
  {
   "cell_type": "code",
   "execution_count": 19,
   "metadata": {},
   "outputs": [
    {
     "name": "stdout",
     "output_type": "stream",
     "text": [
      "scaler and label encoder loaded & applied!!\n"
     ]
    },
    {
     "name": "stderr",
     "output_type": "stream",
     "text": [
      "[Parallel(n_jobs=1)]: Done  40 tasks      | elapsed:    3.3s\n"
     ]
    },
    {
     "name": "stdout",
     "output_type": "stream",
     "text": [
      "Classification Report for Sample Size 1000:\n",
      "                           precision    recall  f1-score   support\n",
      "\n",
      "                   BENIGN     0.9959    0.9906    0.9932    410865\n",
      "                      Bot     0.9467    0.6017    0.7358       354\n",
      "                     DDoS     0.9998    0.9994    0.9996     23160\n",
      "            DoS_GoldenEye     0.9893    0.9909    0.9901      1861\n",
      "                 DoS_Hulk     0.9183    0.9778    0.9471     41626\n",
      "         DoS_Slowhttptest     0.9802    0.9960    0.9880       994\n",
      "            DoS_slowloris     0.9990    1.0000    0.9995      1048\n",
      "              FTP-Patator     0.9951    0.9868    0.9909      1436\n",
      "               Heartbleed     1.0000    1.0000    1.0000         2\n",
      "             Infiltration     0.8333    0.8333    0.8333         6\n",
      "                 PortScan     0.9940    0.9999    0.9969     28728\n",
      "              SSH-Patator     0.9981    0.4967    0.6633      1067\n",
      "  Web_Attack__Brute_Force     0.9203    0.8493    0.8834       272\n",
      "Web_Attack__Sql_Injection     1.0000    0.5000    0.6667         4\n",
      "          Web_Attack__XSS     0.8611    0.7949    0.8267       117\n",
      "\n",
      "                 accuracy                         0.9891    511540\n",
      "                macro avg     0.9621    0.8678    0.9010    511540\n",
      "             weighted avg     0.9895    0.9891    0.9890    511540\n",
      "\n"
     ]
    }
   ],
   "source": [
    "inference(itu_test_df, 'synthetic_from_cicids_ctgan', 3)"
   ]
  },
  {
   "cell_type": "code",
   "execution_count": null,
   "metadata": {},
   "outputs": [],
   "source": []
  }
 ],
 "metadata": {
  "kernelspec": {
   "display_name": "Python 3 (ipykernel)",
   "language": "python",
   "name": "python3"
  },
  "language_info": {
   "codemirror_mode": {
    "name": "ipython",
    "version": 3
   },
   "file_extension": ".py",
   "mimetype": "text/x-python",
   "name": "python",
   "nbconvert_exporter": "python",
   "pygments_lexer": "ipython3",
   "version": "3.8.10"
  }
 },
 "nbformat": 4,
 "nbformat_minor": 2
}
